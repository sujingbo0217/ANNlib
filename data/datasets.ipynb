{
 "cells": [
  {
   "cell_type": "markdown",
   "metadata": {},
   "source": [
    "# YFCC-100M"
   ]
  },
  {
   "cell_type": "code",
   "execution_count": 1,
   "metadata": {},
   "outputs": [],
   "source": [
    "from pathlib import Path\n",
    "data_dir = Path('/localdata/jsu068')"
   ]
  },
  {
   "cell_type": "code",
   "execution_count": 3,
   "metadata": {},
   "outputs": [],
   "source": [
    "import numpy as np\n",
    "from datasets import YFCC100MDataset"
   ]
  },
  {
   "cell_type": "code",
   "execution_count": 4,
   "metadata": {},
   "outputs": [],
   "source": [
    "ds = YFCC100MDataset()\n",
    "# ds.prepare()"
   ]
  },
  {
   "cell_type": "code",
   "execution_count": 6,
   "metadata": {},
   "outputs": [
    {
     "data": {
      "text/plain": [
       "'Dataset YFCC100MDataset in dimension 192, with distance euclidean, search_type knn_filtered, size: Q 100000 B 10000000'"
      ]
     },
     "execution_count": 6,
     "metadata": {},
     "output_type": "execute_result"
    }
   ],
   "source": [
    "ds.__str__()\n",
    "# dir(ds)"
   ]
  },
  {
   "cell_type": "code",
   "execution_count": 7,
   "metadata": {},
   "outputs": [
    {
     "data": {
      "text/plain": [
       "((10000000, 200386), (100000, 200386))"
      ]
     },
     "execution_count": 7,
     "metadata": {},
     "output_type": "execute_result"
    }
   ],
   "source": [
    "ds.get_dataset_metadata().shape, ds.get_queries_metadata().shape"
   ]
  },
  {
   "cell_type": "code",
   "execution_count": 8,
   "metadata": {},
   "outputs": [
    {
     "data": {
      "text/plain": [
       "(108210476,)"
      ]
     },
     "execution_count": 8,
     "metadata": {},
     "output_type": "execute_result"
    }
   ],
   "source": [
    "dataset_metadata = ds.get_dataset_metadata()  # (10000000, 200386)\n",
    "dataset_metadata.data.shape"
   ]
  },
  {
   "cell_type": "code",
   "execution_count": 9,
   "metadata": {},
   "outputs": [
    {
     "data": {
      "text/plain": [
       "(138374,)"
      ]
     },
     "execution_count": 9,
     "metadata": {},
     "output_type": "execute_result"
    }
   ],
   "source": [
    "query_metadata = ds.get_queries_metadata()\n",
    "query_metadata.indices.shape"
   ]
  },
  {
   "cell_type": "code",
   "execution_count": 10,
   "metadata": {},
   "outputs": [
    {
     "data": {
      "text/plain": [
       "((108210476,), (108210476,))"
      ]
     },
     "execution_count": 10,
     "metadata": {},
     "output_type": "execute_result"
    }
   ],
   "source": [
    "rows, cols = dataset_metadata.nonzero()\n",
    "rows.shape, cols.shape"
   ]
  },
  {
   "cell_type": "code",
   "execution_count": 11,
   "metadata": {},
   "outputs": [
    {
     "data": {
      "text/plain": [
       "200363"
      ]
     },
     "execution_count": 11,
     "metadata": {},
     "output_type": "execute_result"
    }
   ],
   "source": [
    "len(set(cols))"
   ]
  },
  {
   "cell_type": "code",
   "execution_count": 12,
   "metadata": {},
   "outputs": [
    {
     "data": {
      "text/plain": [
       "(array([      0,       0,       0, ..., 9999999, 9999999, 9999999],\n",
       "       dtype=int32),\n",
       " array([    6,    15,    24, ...,   345, 48730,  2841], dtype=int32))"
      ]
     },
     "execution_count": 12,
     "metadata": {},
     "output_type": "execute_result"
    }
   ],
   "source": [
    "dataset_metadata.nonzero()"
   ]
  },
  {
   "cell_type": "code",
   "execution_count": 13,
   "metadata": {},
   "outputs": [],
   "source": [
    "from collections import defaultdict\n",
    "\n",
    "filter_dict = defaultdict(list)\n",
    "for idx, v in zip(rows, cols):\n",
    "    filter_dict[idx].append(v)"
   ]
  },
  {
   "cell_type": "code",
   "execution_count": 14,
   "metadata": {},
   "outputs": [
    {
     "data": {
      "text/plain": [
       "9998928"
      ]
     },
     "execution_count": 14,
     "metadata": {},
     "output_type": "execute_result"
    }
   ],
   "source": [
    "len(filter_dict)"
   ]
  },
  {
   "cell_type": "code",
   "execution_count": 15,
   "metadata": {},
   "outputs": [
    {
     "data": {
      "text/plain": [
       "1072"
      ]
     },
     "execution_count": 15,
     "metadata": {},
     "output_type": "execute_result"
    }
   ],
   "source": [
    "# {k: v for k, v in filter_dict.items() if not v}\n",
    "not_in_list = [i for i in range(10000000) if i not in filter_dict]\n",
    "len(not_in_list)"
   ]
  },
  {
   "cell_type": "code",
   "execution_count": 17,
   "metadata": {},
   "outputs": [
    {
     "name": "stdout",
     "output_type": "stream",
     "text": [
      "10000000 points with 108211548 labels are written to /localdata/jsu068/yfcc/yfcc.filter.base.txt\n"
     ]
    }
   ],
   "source": [
    "import os\n",
    "\n",
    "labels_dir = data_dir / \"yfcc\"\n",
    "file_path = os.path.join(labels_dir, \"yfcc.filter.base.txt\")\n",
    "label_type = np.int32\n",
    "\n",
    "data = []\n",
    "it = 0\n",
    "\n",
    "for idx, labels in filter_dict.items():\n",
    "    while it < len(not_in_list) and idx > not_in_list[it]:\n",
    "        data.append([0])\n",
    "        it += 1\n",
    "    data.append(labels)\n",
    "\n",
    "assert(len(data) == 10000000)\n",
    "total_labels = 0\n",
    "\n",
    "cnt = 0\n",
    "with open(file_path, \"w\") as f:\n",
    "    for labels in data:\n",
    "        cnt += 1\n",
    "        label_written = False\n",
    "        for label in labels:\n",
    "            if label_written:\n",
    "                f.write(',')\n",
    "            f.write(str(label))\n",
    "            label_written = True\n",
    "            total_labels += 1\n",
    "        if cnt < len(data):\n",
    "            f.write('\\n')\n",
    "\n",
    "print(f\"{len(data)} points with {total_labels} labels are written to {file_path}\")"
   ]
  },
  {
   "cell_type": "code",
   "execution_count": 14,
   "metadata": {},
   "outputs": [
    {
     "name": "stdout",
     "output_type": "stream",
     "text": [
      "10000000 points with 108211548 labels are written to /localdata/jsu068/yfcc/yfcc.filter.base.bin\n"
     ]
    }
   ],
   "source": [
    "# import os\n",
    "\n",
    "# labels_dir = data_dir / \"yfcc\"\n",
    "# file_path = os.path.join(labels_dir, \"yfcc.filter.base.bin\")\n",
    "# label_type = np.int32\n",
    "\n",
    "# data = []\n",
    "# it = 0\n",
    "\n",
    "# for idx, labels in filter_dict.items():\n",
    "#     while it < len(not_in_list) and idx > not_in_list[it]:\n",
    "#         data.append([0])\n",
    "#         it += 1\n",
    "#     data.append(labels)\n",
    "\n",
    "# assert(len(data) == 10000000)\n",
    "# total_labels = 0\n",
    "# # separator = np.iinfo(label_type).max - 1\n",
    "# separator = -1\n",
    "\n",
    "# with open(file_path, \"wb\") as f:\n",
    "#     # total points\n",
    "#     shape = len(data)\n",
    "#     f.write(shape.to_bytes(4, byteorder='little'))\n",
    "\n",
    "#     # data\n",
    "#     for labels in data:\n",
    "#         label_array = np.array(labels, dtype=label_type)\n",
    "#         # data\n",
    "#         f.write(label_array.tobytes())\n",
    "#         # separator\n",
    "#         f.write(separator.to_bytes(4, byteorder='little', signed=True))\n",
    "#         total_labels += label_array.shape[0]\n",
    "\n",
    "# print(f\"{len(data)} points with {total_labels} labels are written to {file_path}\")"
   ]
  },
  {
   "cell_type": "code",
   "execution_count": 18,
   "metadata": {},
   "outputs": [
    {
     "data": {
      "text/plain": [
       "(13122, False)"
      ]
     },
     "execution_count": 18,
     "metadata": {},
     "output_type": "execute_result"
    }
   ],
   "source": [
    "single = []\n",
    "for idx, labels in filter_dict.items():\n",
    "    if len(labels) == 1:\n",
    "        single.append(labels[0])\n",
    "len(single), 0 in single"
   ]
  },
  {
   "cell_type": "code",
   "execution_count": 19,
   "metadata": {},
   "outputs": [],
   "source": [
    "rows, cols = query_metadata.nonzero()"
   ]
  },
  {
   "cell_type": "code",
   "execution_count": 20,
   "metadata": {},
   "outputs": [],
   "source": [
    "filter_dict = defaultdict(list)\n",
    "for row, col in zip(rows, cols):\n",
    "    filter_dict[row].append(col)"
   ]
  },
  {
   "cell_type": "code",
   "execution_count": 21,
   "metadata": {},
   "outputs": [
    {
     "data": {
      "text/plain": [
       "100000"
      ]
     },
     "execution_count": 21,
     "metadata": {},
     "output_type": "execute_result"
    }
   ],
   "source": [
    "len(filter_dict)"
   ]
  },
  {
   "cell_type": "code",
   "execution_count": 23,
   "metadata": {},
   "outputs": [
    {
     "name": "stdout",
     "output_type": "stream",
     "text": [
      "100000 points with 138374 labels are written to /localdata/jsu068/yfcc/yfcc.filter.query.txt\n"
     ]
    }
   ],
   "source": [
    "import os\n",
    "\n",
    "labels_dir = data_dir / \"yfcc\"\n",
    "file_path = os.path.join(labels_dir, \"yfcc.filter.query.txt\")\n",
    "label_type = np.int32\n",
    "\n",
    "data = []\n",
    "it = 0\n",
    "\n",
    "for idx, labels in filter_dict.items():\n",
    "    data.append(labels)\n",
    "\n",
    "assert(len(data) == 100000)\n",
    "total_labels = 0\n",
    "\n",
    "cnt = 0\n",
    "with open(file_path, \"w\") as f:\n",
    "    for labels in data:\n",
    "        cnt += 1\n",
    "        label_written = False\n",
    "        for label in labels:\n",
    "            if label_written:\n",
    "                f.write(',')\n",
    "            f.write(str(label))\n",
    "            label_written = True\n",
    "            total_labels += 1\n",
    "        if cnt < len(data):\n",
    "            f.write('\\n')\n",
    "\n",
    "print(f\"{len(data)} points with {total_labels} labels are written to {file_path}\")"
   ]
  },
  {
   "cell_type": "code",
   "execution_count": null,
   "metadata": {},
   "outputs": [
    {
     "name": "stdout",
     "output_type": "stream",
     "text": [
      "100000 points with 138374 labels are written to /localdata/jsu068/yfcc/yfcc.filter.query.bin\n"
     ]
    }
   ],
   "source": [
    "# import os\n",
    "\n",
    "# file_path = os.path.join(labels_dir, \"yfcc.filter.query.bin\")\n",
    "\n",
    "# data = []\n",
    "# it = 0\n",
    "\n",
    "# for idx, labels in filter_dict.items():\n",
    "#     data.append(labels)\n",
    "\n",
    "# assert(len(data) == 100000)\n",
    "# total_labels = 0\n",
    "\n",
    "# with open(file_path, \"wb\") as f:\n",
    "#     # total points\n",
    "#     shape = len(data)\n",
    "#     f.write(shape.to_bytes(4, byteorder='little'))\n",
    "\n",
    "#     # data\n",
    "#     for labels in data:\n",
    "#         label_array = np.array(labels, dtype=label_type)\n",
    "#         # data\n",
    "#         f.write(label_array.tobytes())\n",
    "#         # separator\n",
    "#         f.write(separator.to_bytes(4, byteorder='little', signed=True))\n",
    "#         total_labels += label_array.shape[0]\n",
    "\n",
    "# print(f\"{len(data)} points with {total_labels} labels are written to {file_path}\")"
   ]
  },
  {
   "cell_type": "markdown",
   "metadata": {},
   "source": [
    "# MS-MACRO"
   ]
  },
  {
   "cell_type": "code",
   "execution_count": 24,
   "metadata": {},
   "outputs": [],
   "source": [
    "import numpy as np\n",
    "import struct"
   ]
  },
  {
   "cell_type": "code",
   "execution_count": 25,
   "metadata": {},
   "outputs": [],
   "source": [
    "from pathlib import Path\n",
    "data_dir = Path('/localdata/jsu068')\n",
    "\n",
    "macro_dir = data_dir / \"marco\"\n",
    "embed_dir = macro_dir / \"embedding\"\n",
    "query_dir = macro_dir / \"query\""
   ]
  },
  {
   "cell_type": "code",
   "execution_count": 26,
   "metadata": {},
   "outputs": [
    {
     "data": {
      "text/plain": [
       "(101070374, 768, (101070374, 768))"
      ]
     },
     "execution_count": 26,
     "metadata": {},
     "output_type": "execute_result"
    }
   ],
   "source": [
    "# embedding\n",
    "with open(embed_dir / \"marco.768D.100M.euclidean.fbin\", \"rb\") as f:\n",
    "    n = struct.unpack('I', f.read(4))[0]\n",
    "    dim = struct.unpack('I', f.read(4))[0]\n",
    "\n",
    "vectors = np.memmap(embed_dir / \"marco.768D.100M.euclidean.fbin\", dtype=np.float32, mode='r', shape=(n, dim))\n",
    "\n",
    "n, dim, vectors.shape"
   ]
  },
  {
   "cell_type": "code",
   "execution_count": 27,
   "metadata": {},
   "outputs": [
    {
     "data": {
      "text/plain": [
       "((909486248,), (202140751,))"
      ]
     },
     "execution_count": 27,
     "metadata": {},
     "output_type": "execute_result"
    }
   ],
   "source": [
    "meta = np.fromfile(embed_dir / \"meta.bin\", dtype=np.uint8)\n",
    "metaidx = np.fromfile(embed_dir / \"metaidx.bin\", dtype=np.int32)\n",
    "meta.shape, metaidx.shape"
   ]
  },
  {
   "cell_type": "code",
   "execution_count": 28,
   "metadata": {},
   "outputs": [
    {
     "data": {
      "text/plain": [
       "(101070374,)"
      ]
     },
     "execution_count": 28,
     "metadata": {},
     "output_type": "execute_result"
    }
   ],
   "source": [
    "data = np.zeros(n, dtype=np.int32)\n",
    "i = 0\n",
    "\n",
    "for idx in list(metaidx)[2:]:\n",
    "    if idx == 0:\n",
    "        continue\n",
    "    \n",
    "    idx -= 1\n",
    "    data[i] = meta[idx]\n",
    "    i += 1\n",
    "    \n",
    "data.shape"
   ]
  },
  {
   "cell_type": "code",
   "execution_count": 30,
   "metadata": {},
   "outputs": [
    {
     "name": "stdout",
     "output_type": "stream",
     "text": [
      "101070374 points with 101070374 labels are written to /localdata/jsu068/marco/embedding/macro.filter.base.txt\n"
     ]
    }
   ],
   "source": [
    "import os\n",
    "\n",
    "file_path = os.path.join(embed_dir, \"marco.filter.base.txt\")\n",
    "label_type = np.int32\n",
    "total_labels = 0\n",
    "\n",
    "cnt = 0\n",
    "with open(file_path, \"w\") as f:\n",
    "    # data\n",
    "    for label in data:\n",
    "        cnt += 1\n",
    "        f.write(str(label))\n",
    "        total_labels += 1\n",
    "        if cnt < len(data):\n",
    "            f.write('\\n')\n",
    "\n",
    "print(f\"{len(data)} points with {total_labels} labels are written to {file_path}\")"
   ]
  },
  {
   "cell_type": "code",
   "execution_count": 29,
   "metadata": {},
   "outputs": [
    {
     "name": "stdout",
     "output_type": "stream",
     "text": [
      "101070374 points with 101070374 labels are written to /localdata/jsu068/marco/embedding/macro.filter.base.bin\n"
     ]
    }
   ],
   "source": [
    "# import os\n",
    "\n",
    "# file_path = os.path.join(embed_dir, \"marco.filter.base.bin\")\n",
    "# label_type = np.int32\n",
    "# total_labels = 0\n",
    "# # separator = np.iinfo(label_type).max\n",
    "# separator = -1\n",
    "\n",
    "# with open(file_path, \"wb\") as f:\n",
    "#     # total points\n",
    "#     shape = len(data)\n",
    "#     f.write(shape.to_bytes(4, byteorder='little'))\n",
    "\n",
    "#     # data\n",
    "#     for label in data:\n",
    "#         # label_array = np.array(labels, dtype=label_type)\n",
    "#         # data\n",
    "#         f.write(label.tobytes())\n",
    "#         # separator\n",
    "#         f.write(separator.to_bytes(4, byteorder='little', signed=True))\n",
    "#         total_labels += 1\n",
    "\n",
    "# print(f\"{len(data)} points with {total_labels} labels are written to {file_path}\")"
   ]
  },
  {
   "cell_type": "code",
   "execution_count": 31,
   "metadata": {},
   "outputs": [
    {
     "data": {
      "text/plain": [
       "(9376, 768, (9376, 768))"
      ]
     },
     "execution_count": 31,
     "metadata": {},
     "output_type": "execute_result"
    }
   ],
   "source": [
    "# query\n",
    "with open(query_dir / \"marco.768D.10K.euclidean.fbin\", \"rb\") as f:\n",
    "    n = struct.unpack('I', f.read(4))[0]\n",
    "    dim = struct.unpack('I', f.read(4))[0]\n",
    "\n",
    "vectors = np.memmap(query_dir / \"marco.768D.10K.euclidean.fbin\", dtype=np.float32, mode='r', shape=(n, dim))\n",
    "\n",
    "n, dim, vectors.shape"
   ]
  },
  {
   "cell_type": "code",
   "execution_count": 32,
   "metadata": {},
   "outputs": [
    {
     "data": {
      "text/plain": [
       "((36397,), (18755,))"
      ]
     },
     "execution_count": 32,
     "metadata": {},
     "output_type": "execute_result"
    }
   ],
   "source": [
    "meta = np.fromfile(query_dir / \"meta.bin\", dtype=np.uint8)\n",
    "metaidx = np.fromfile(query_dir / \"metaidx.bin\", dtype=np.int32)\n",
    "meta.shape, metaidx.shape"
   ]
  },
  {
   "cell_type": "code",
   "execution_count": 33,
   "metadata": {},
   "outputs": [
    {
     "data": {
      "text/plain": [
       "(9376,)"
      ]
     },
     "execution_count": 33,
     "metadata": {},
     "output_type": "execute_result"
    }
   ],
   "source": [
    "data = np.zeros(n, dtype=np.int32)\n",
    "i = 0\n",
    "\n",
    "for idx in list(metaidx)[2:]:\n",
    "    if idx == 0:\n",
    "        continue\n",
    "    \n",
    "    idx -= 1\n",
    "    data[i] = meta[idx]\n",
    "    i += 1\n",
    "    \n",
    "data.shape"
   ]
  },
  {
   "cell_type": "code",
   "execution_count": 35,
   "metadata": {},
   "outputs": [
    {
     "name": "stdout",
     "output_type": "stream",
     "text": [
      "9376 points with 9376 labels are written to /localdata/jsu068/marco/query/marco.filter.query.txt\n"
     ]
    }
   ],
   "source": [
    "import os\n",
    "\n",
    "file_path = os.path.join(query_dir, \"marco.filter.query.txt\")\n",
    "total_labels = 0\n",
    "\n",
    "cnt = 0\n",
    "with open(file_path, \"w\") as f:\n",
    "    # data\n",
    "    for label in data:\n",
    "        cnt += 1\n",
    "        f.write(str(label))\n",
    "        total_labels += 1\n",
    "        if cnt < len(data):\n",
    "            f.write('\\n')\n",
    "\n",
    "print(f\"{len(data)} points with {total_labels} labels are written to {file_path}\")"
   ]
  },
  {
   "cell_type": "code",
   "execution_count": 35,
   "metadata": {},
   "outputs": [
    {
     "name": "stdout",
     "output_type": "stream",
     "text": [
      "9376 points with 9376 labels are written to /localdata/jsu068/marco/query/macro.filter.query.bin\n"
     ]
    }
   ],
   "source": [
    "# import os\n",
    "\n",
    "# file_path = os.path.join(query_dir, \"marco.filter.query.bin\")\n",
    "# total_labels = 0\n",
    "\n",
    "# with open(file_path, \"wb\") as f:\n",
    "#     # total points\n",
    "#     shape = len(data)\n",
    "#     f.write(shape.to_bytes(4, byteorder='little'))\n",
    "\n",
    "#     # data\n",
    "#     for label in data:\n",
    "#         # label_array = np.array(labels, dtype=label_type)\n",
    "#         # data\n",
    "#         f.write(label.tobytes())\n",
    "#         # separator\n",
    "#         f.write(separator.to_bytes(4, byteorder='little', signed=True))\n",
    "#         total_labels += 1\n",
    "\n",
    "# print(f\"{len(data)} points with {total_labels} labels are written to {file_path}\")"
   ]
  },
  {
   "cell_type": "code",
   "execution_count": null,
   "metadata": {},
   "outputs": [],
   "source": []
  },
  {
   "cell_type": "code",
   "execution_count": null,
   "metadata": {},
   "outputs": [],
   "source": []
  }
 ],
 "metadata": {
  "kernelspec": {
   "display_name": "ann",
   "language": "python",
   "name": "python3"
  },
  "language_info": {
   "codemirror_mode": {
    "name": "ipython",
    "version": 3
   },
   "file_extension": ".py",
   "mimetype": "text/x-python",
   "name": "python",
   "nbconvert_exporter": "python",
   "pygments_lexer": "ipython3",
   "version": "3.11.10"
  }
 },
 "nbformat": 4,
 "nbformat_minor": 2
}
