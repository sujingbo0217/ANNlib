{
 "cells": [
  {
   "cell_type": "markdown",
   "metadata": {},
   "source": [
    "# YFCC-100M"
   ]
  },
  {
   "cell_type": "code",
   "execution_count": 1,
   "metadata": {},
   "outputs": [],
   "source": [
    "from pathlib import Path\n",
    "data_dir = Path('/localdata/jsu068')"
   ]
  },
  {
   "cell_type": "code",
   "execution_count": 2,
   "metadata": {},
   "outputs": [],
   "source": [
    "import numpy as np\n",
    "from datasets import YFCC100MDataset"
   ]
  },
  {
   "cell_type": "code",
   "execution_count": 3,
   "metadata": {},
   "outputs": [
    {
     "name": "stdout",
     "output_type": "stream",
     "text": [
      "downloading https://dl.fbaipublicfiles.com/billion-scale-ann-benchmarks/yfcc100M/query.public.100K.u8bin -> /localdata/jsu068/yfcc/query.public.100K.u8bin...\n",
      "  [0.84 s] downloaded 18.31 MiB / 18.31 MiB at 21.77 MiB/s   \n",
      "download finished in 0.84 s, total size 19200008 bytes\n",
      "downloading https://dl.fbaipublicfiles.com/billion-scale-ann-benchmarks/yfcc100M/GT.public.ibin -> /localdata/jsu068/yfcc/GT.public.ibin...\n",
      "  [0.47 s] downloaded 7.63 MiB / 7.63 MiB at 16.18 MiB/s   \n",
      "download finished in 0.47 s, total size 8000008 bytes\n",
      "downloading https://dl.fbaipublicfiles.com/billion-scale-ann-benchmarks/yfcc100M/query.private.2727415019.100K.u8bin -> /localdata/jsu068/yfcc/query.private.2727415019.100K.u8bin...\n",
      "  [0.76 s] downloaded 18.31 MiB / 18.31 MiB at 24.15 MiB/s   \n",
      "download finished in 0.76 s, total size 19200008 bytes\n",
      "downloading https://dl.fbaipublicfiles.com/billion-scale-ann-benchmarks/yfcc100M/GT.private.2727415019.ibin -> /localdata/jsu068/yfcc/GT.private.2727415019.ibin...\n",
      "  [1.54 s] downloaded 7.63 MiB / 7.63 MiB at 4.95 MiB/s   \n",
      "download finished in 1.54 s, total size 8000008 bytes\n",
      "downloading https://dl.fbaipublicfiles.com/billion-scale-ann-benchmarks/yfcc100M/base.10M.u8bin -> /localdata/jsu068/yfcc/base.10M.u8bin.crop_nb_10000000...\n",
      "   stopping at 1920000008 bytes\n",
      "  [53.14 s] downloaded 1831.00 MiB / 1831.05 MiB at 34.46 MiB/s   \n",
      "download finished in 53.14 s, total size 1920000008 bytes\n",
      "downloading https://dl.fbaipublicfiles.com/billion-scale-ann-benchmarks/yfcc100M/base.metadata.10M.spmat -> /localdata/jsu068/yfcc/base.metadata.10M.spmat...\n",
      "  [26.65 s] downloaded 901.87 MiB / 901.87 MiB at 33.84 MiB/s   \n",
      "download finished in 26.65 s, total size 945683840 bytes\n",
      "downloading https://dl.fbaipublicfiles.com/billion-scale-ann-benchmarks/yfcc100M/query.metadata.public.100K.spmat -> /localdata/jsu068/yfcc/query.metadata.public.100K.spmat...\n",
      "  [0.44 s] downloaded 1.82 MiB / 1.82 MiB at 4.18 MiB/s   \n",
      "download finished in 0.44 s, total size 1907024 bytes\n",
      "downloading https://dl.fbaipublicfiles.com/billion-scale-ann-benchmarks/yfcc100M/query.metadata.private.2727415019.100K.spmat -> /localdata/jsu068/yfcc/query.metadata.private.2727415019.100K.spmat...\n",
      "  [0.39 s] downloaded 1.82 MiB / 1.82 MiB at 4.69 MiB/s   \n",
      "download finished in 0.39 s, total size 1905808 bytes\n"
     ]
    }
   ],
   "source": [
    "ds = YFCC100MDataset()\n",
    "ds.prepare()"
   ]
  },
  {
   "cell_type": "code",
   "execution_count": 4,
   "metadata": {},
   "outputs": [
    {
     "data": {
      "text/plain": [
       "'Dataset YFCC100MDataset in dimension 192, with distance euclidean, search_type knn_filtered, size: Q 100000 B 10000000'"
      ]
     },
     "execution_count": 4,
     "metadata": {},
     "output_type": "execute_result"
    }
   ],
   "source": [
    "ds.__str__()"
   ]
  },
  {
   "cell_type": "code",
   "execution_count": 5,
   "metadata": {},
   "outputs": [
    {
     "data": {
      "text/plain": [
       "((10000000, 200386), (100000, 200386))"
      ]
     },
     "execution_count": 5,
     "metadata": {},
     "output_type": "execute_result"
    }
   ],
   "source": [
    "ds.get_dataset_metadata().shape, ds.get_queries_metadata().shape"
   ]
  },
  {
   "cell_type": "code",
   "execution_count": 18,
   "metadata": {},
   "outputs": [
    {
     "data": {
      "text/plain": [
       "(108210476,)"
      ]
     },
     "execution_count": 18,
     "metadata": {},
     "output_type": "execute_result"
    }
   ],
   "source": [
    "dataset_metadata = ds.get_dataset_metadata()  # (10000000, 200386)\n",
    "dataset_metadata.data.shape"
   ]
  },
  {
   "cell_type": "code",
   "execution_count": 19,
   "metadata": {},
   "outputs": [
    {
     "data": {
      "text/plain": [
       "(138374,)"
      ]
     },
     "execution_count": 19,
     "metadata": {},
     "output_type": "execute_result"
    }
   ],
   "source": [
    "query_metadata = ds.get_queries_metadata()\n",
    "query_metadata.indices.shape"
   ]
  },
  {
   "cell_type": "code",
   "execution_count": 20,
   "metadata": {},
   "outputs": [
    {
     "data": {
      "text/plain": [
       "((108210476,), (108210476,))"
      ]
     },
     "execution_count": 20,
     "metadata": {},
     "output_type": "execute_result"
    }
   ],
   "source": [
    "rows, cols = dataset_metadata.nonzero()\n",
    "rows.shape, cols.shape"
   ]
  },
  {
   "cell_type": "code",
   "execution_count": 21,
   "metadata": {},
   "outputs": [],
   "source": [
    "from collections import defaultdict\n",
    "filter_dict = defaultdict(list)\n",
    "for row, col in zip(rows, cols):\n",
    "    filter_dict[row].append(col)"
   ]
  },
  {
   "cell_type": "code",
   "execution_count": 22,
   "metadata": {},
   "outputs": [
    {
     "data": {
      "text/plain": [
       "9998928"
      ]
     },
     "execution_count": 22,
     "metadata": {},
     "output_type": "execute_result"
    }
   ],
   "source": [
    "len(filter_dict)"
   ]
  },
  {
   "cell_type": "code",
   "execution_count": 23,
   "metadata": {},
   "outputs": [
    {
     "data": {
      "text/plain": [
       "1072"
      ]
     },
     "execution_count": 23,
     "metadata": {},
     "output_type": "execute_result"
    }
   ],
   "source": [
    "# {k: v for k, v in filter_dict.items() if not v}\n",
    "not_in_list = [i for i in range(10000000) if i not in filter_dict]\n",
    "len(not_in_list)"
   ]
  },
  {
   "cell_type": "code",
   "execution_count": 24,
   "metadata": {},
   "outputs": [
    {
     "name": "stdout",
     "output_type": "stream",
     "text": [
      "10000000 points with 108210476 labels are written to /localdata/jsu068/yfcc/yfcc.filter.base.bin\n"
     ]
    }
   ],
   "source": [
    "import os\n",
    "\n",
    "labels_dir = data_dir / \"yfcc\"\n",
    "file_path = os.path.join(labels_dir, \"yfcc.filter.base.bin\")\n",
    "label_type = np.uint32\n",
    "\n",
    "data = []\n",
    "it = 0\n",
    "\n",
    "for idx, labels in filter_dict.items():\n",
    "    while it < len(not_in_list) and idx > not_in_list[it]:\n",
    "        data.append([])\n",
    "        it += 1\n",
    "    data.append(labels)\n",
    "\n",
    "assert(len(data) == 10000000)\n",
    "total_labels = 0\n",
    "# separator = np.iinfo(label_type).max - 1\n",
    "separator = 0\n",
    "\n",
    "with open(file_path, \"wb\") as f:\n",
    "    # total points\n",
    "    shape = len(data)\n",
    "    f.write(shape.to_bytes(4, byteorder='little'))\n",
    "\n",
    "    # data\n",
    "    for labels in data:\n",
    "        label_array = np.array(labels, dtype=label_type)\n",
    "        # data\n",
    "        f.write(label_array.tobytes())\n",
    "        # separator max\n",
    "        f.write(separator.to_bytes(4, byteorder='little'))\n",
    "        total_labels += label_array.shape[0]\n",
    "\n",
    "print(f\"{len(data)} points with {total_labels} labels are written to {file_path}\")"
   ]
  },
  {
   "cell_type": "code",
   "execution_count": 25,
   "metadata": {},
   "outputs": [
    {
     "data": {
      "text/plain": [
       "(13122, False)"
      ]
     },
     "execution_count": 25,
     "metadata": {},
     "output_type": "execute_result"
    }
   ],
   "source": [
    "single = []\n",
    "for idx, labels in filter_dict.items():\n",
    "    if len(labels) == 1:\n",
    "        single.append(labels[0])\n",
    "len(single), 0 in single"
   ]
  },
  {
   "cell_type": "code",
   "execution_count": 26,
   "metadata": {},
   "outputs": [],
   "source": [
    "rows, cols = query_metadata.nonzero()"
   ]
  },
  {
   "cell_type": "code",
   "execution_count": 27,
   "metadata": {},
   "outputs": [],
   "source": [
    "filter_dict = defaultdict(list)\n",
    "for row, col in zip(rows, cols):\n",
    "    filter_dict[row].append(col)"
   ]
  },
  {
   "cell_type": "code",
   "execution_count": 28,
   "metadata": {},
   "outputs": [
    {
     "data": {
      "text/plain": [
       "100000"
      ]
     },
     "execution_count": 28,
     "metadata": {},
     "output_type": "execute_result"
    }
   ],
   "source": [
    "len(filter_dict)"
   ]
  },
  {
   "cell_type": "code",
   "execution_count": 29,
   "metadata": {},
   "outputs": [
    {
     "name": "stdout",
     "output_type": "stream",
     "text": [
      "100000 points with 138374 labels are written to /localdata/jsu068/yfcc/yfcc.filter.query.bin\n"
     ]
    }
   ],
   "source": [
    "import os\n",
    "\n",
    "file_path = os.path.join(labels_dir, \"yfcc.filter.query.bin\")\n",
    "label_type = np.uint32\n",
    "\n",
    "data = []\n",
    "it = 0\n",
    "\n",
    "for idx, labels in filter_dict.items():\n",
    "    data.append(labels)\n",
    "\n",
    "assert(len(data) == 100000)\n",
    "total_labels = 0\n",
    "# separator = np.iinfo(label_type).max - \n",
    "separator = 0\n",
    "\n",
    "with open(file_path, \"wb\") as f:\n",
    "    # total points\n",
    "    shape = len(data)\n",
    "    f.write(shape.to_bytes(4, byteorder='little'))\n",
    "\n",
    "    # data\n",
    "    for labels in data:\n",
    "        label_array = np.array(labels, dtype=label_type)\n",
    "        # data\n",
    "        f.write(label_array.tobytes())\n",
    "        # separator max\n",
    "        f.write(separator.to_bytes(4, byteorder='little'))\n",
    "        total_labels += label_array.shape[0]\n",
    "\n",
    "print(f\"{len(data)} points with {total_labels} labels are written to {file_path}\")"
   ]
  },
  {
   "cell_type": "markdown",
   "metadata": {},
   "source": [
    "# MS-MACRO"
   ]
  },
  {
   "cell_type": "code",
   "execution_count": 20,
   "metadata": {},
   "outputs": [],
   "source": [
    "import numpy as np\n",
    "import struct"
   ]
  },
  {
   "cell_type": "code",
   "execution_count": 21,
   "metadata": {},
   "outputs": [],
   "source": [
    "from pathlib import Path\n",
    "data_dir = Path('/localdata/jsu068')\n",
    "\n",
    "macro_dir = data_dir / \"marco\"\n",
    "embed_dir = macro_dir / \"embedding\"\n",
    "query_dir = macro_dir / \"query\""
   ]
  },
  {
   "cell_type": "code",
   "execution_count": 22,
   "metadata": {},
   "outputs": [
    {
     "data": {
      "text/plain": [
       "(101070374, 768, (101070374, 768))"
      ]
     },
     "execution_count": 22,
     "metadata": {},
     "output_type": "execute_result"
    }
   ],
   "source": [
    "# embedding\n",
    "with open(embed_dir / \"vectors.bin\", \"rb\") as f:\n",
    "    n = struct.unpack('I', f.read(4))[0]\n",
    "    dim = struct.unpack('I', f.read(4))[0]\n",
    "\n",
    "vectors = np.memmap(embed_dir / \"vectors.bin\", dtype=np.float32, mode='r', shape=(n, dim))\n",
    "\n",
    "n, dim, vectors.shape"
   ]
  },
  {
   "cell_type": "code",
   "execution_count": 23,
   "metadata": {},
   "outputs": [
    {
     "data": {
      "text/plain": [
       "((909486248,), (202140751,))"
      ]
     },
     "execution_count": 23,
     "metadata": {},
     "output_type": "execute_result"
    }
   ],
   "source": [
    "meta = np.fromfile(embed_dir / \"meta.bin\", dtype=np.uint8)\n",
    "metaidx = np.fromfile(embed_dir / \"metaidx.bin\", dtype=np.int32)\n",
    "meta.shape, metaidx.shape"
   ]
  },
  {
   "cell_type": "code",
   "execution_count": 24,
   "metadata": {},
   "outputs": [
    {
     "data": {
      "text/plain": [
       "(101070374,)"
      ]
     },
     "execution_count": 24,
     "metadata": {},
     "output_type": "execute_result"
    }
   ],
   "source": [
    "data = np.zeros(n, dtype=np.uint32)\n",
    "i = 0\n",
    "\n",
    "for idx in list(metaidx)[2:]:\n",
    "    if idx == 0:\n",
    "        continue\n",
    "    \n",
    "    idx -= 1\n",
    "    data[i] = meta[idx]\n",
    "    i += 1\n",
    "    \n",
    "data.shape"
   ]
  },
  {
   "cell_type": "code",
   "execution_count": 25,
   "metadata": {},
   "outputs": [
    {
     "name": "stdout",
     "output_type": "stream",
     "text": [
      "101070374 points with 101070374 labels are written to /localdata/jsu068/marco/embedding/macro.filter.base.bin\n"
     ]
    }
   ],
   "source": [
    "import os\n",
    "\n",
    "file_path = os.path.join(embed_dir, \"macro.filter.base.bin\")\n",
    "label_type = np.uint32\n",
    "total_labels = 0\n",
    "separator = np.iinfo(label_type).max\n",
    "\n",
    "with open(file_path, \"wb\") as f:\n",
    "    # total points\n",
    "    shape = len(data)\n",
    "    f.write(shape.to_bytes(4, byteorder='little'))\n",
    "\n",
    "    # data\n",
    "    for label in data:\n",
    "        # label_array = np.array(labels, dtype=label_type)\n",
    "        # data\n",
    "        f.write(label.tobytes())\n",
    "        # separator max\n",
    "        f.write(separator.to_bytes(4, byteorder='little'))\n",
    "        total_labels += 1\n",
    "\n",
    "print(f\"{len(data)} points with {total_labels} labels are written to {file_path}\")"
   ]
  },
  {
   "cell_type": "code",
   "execution_count": 26,
   "metadata": {},
   "outputs": [
    {
     "data": {
      "text/plain": [
       "(9376, 768, (9376, 768))"
      ]
     },
     "execution_count": 26,
     "metadata": {},
     "output_type": "execute_result"
    }
   ],
   "source": [
    "# query\n",
    "with open(query_dir / \"vectors.bin\", \"rb\") as f:\n",
    "    n = struct.unpack('I', f.read(4))[0]\n",
    "    dim = struct.unpack('I', f.read(4))[0]\n",
    "\n",
    "vectors = np.memmap(query_dir / \"vectors.bin\", dtype=np.float32, mode='r', shape=(n, dim))\n",
    "\n",
    "n, dim, vectors.shape"
   ]
  },
  {
   "cell_type": "code",
   "execution_count": 27,
   "metadata": {},
   "outputs": [
    {
     "data": {
      "text/plain": [
       "((36397,), (18755,))"
      ]
     },
     "execution_count": 27,
     "metadata": {},
     "output_type": "execute_result"
    }
   ],
   "source": [
    "meta = np.fromfile(query_dir / \"meta.bin\", dtype=np.uint8)\n",
    "metaidx = np.fromfile(query_dir / \"metaidx.bin\", dtype=np.int32)\n",
    "meta.shape, metaidx.shape"
   ]
  },
  {
   "cell_type": "code",
   "execution_count": 28,
   "metadata": {},
   "outputs": [
    {
     "data": {
      "text/plain": [
       "(9376,)"
      ]
     },
     "execution_count": 28,
     "metadata": {},
     "output_type": "execute_result"
    }
   ],
   "source": [
    "data = np.zeros(n, dtype=np.uint32)\n",
    "i = 0\n",
    "\n",
    "for idx in list(metaidx)[2:]:\n",
    "    if idx == 0:\n",
    "        continue\n",
    "    \n",
    "    idx -= 1\n",
    "    data[i] = meta[idx]\n",
    "    i += 1\n",
    "    \n",
    "data.shape"
   ]
  },
  {
   "cell_type": "code",
   "execution_count": 29,
   "metadata": {},
   "outputs": [
    {
     "name": "stdout",
     "output_type": "stream",
     "text": [
      "9376 points with 9376 labels are written to /localdata/jsu068/marco/query/macro.filter.query.bin\n"
     ]
    }
   ],
   "source": [
    "import os\n",
    "\n",
    "file_path = os.path.join(query_dir, \"macro.filter.query.bin\")\n",
    "label_type = np.uint32\n",
    "total_labels = 0\n",
    "separator = np.iinfo(label_type).max\n",
    "\n",
    "with open(file_path, \"wb\") as f:\n",
    "    # total points\n",
    "    shape = len(data)\n",
    "    f.write(shape.to_bytes(4, byteorder='little'))\n",
    "\n",
    "    # data\n",
    "    for label in data:\n",
    "        # label_array = np.array(labels, dtype=label_type)\n",
    "        # data\n",
    "        f.write(label.tobytes())\n",
    "        # separator max\n",
    "        f.write(separator.to_bytes(4, byteorder='little'))\n",
    "        total_labels += 1\n",
    "\n",
    "print(f\"{len(data)} points with {total_labels} labels are written to {file_path}\")"
   ]
  },
  {
   "cell_type": "code",
   "execution_count": null,
   "metadata": {},
   "outputs": [],
   "source": []
  }
 ],
 "metadata": {
  "kernelspec": {
   "display_name": "base",
   "language": "python",
   "name": "python3"
  },
  "language_info": {
   "codemirror_mode": {
    "name": "ipython",
    "version": 3
   },
   "file_extension": ".py",
   "mimetype": "text/x-python",
   "name": "python",
   "nbconvert_exporter": "python",
   "pygments_lexer": "ipython3",
   "version": "3.10.14"
  }
 },
 "nbformat": 4,
 "nbformat_minor": 2
}
